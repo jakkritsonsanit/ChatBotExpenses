{
 "cells": [
  {
   "cell_type": "markdown",
   "metadata": {},
   "source": [
    "# Classify Category (Decision Tree)\n",
    "##### Mr.Jakkrit Sonsanit\n",
    "\n",
    "***"
   ]
  },
  {
   "cell_type": "markdown",
   "metadata": {},
   "source": [
    "### Import Library "
   ]
  },
  {
   "cell_type": "code",
   "execution_count": 2,
   "metadata": {},
   "outputs": [],
   "source": [
    "import pandas as pd\n",
    "import numpy as np\n",
    "from pythainlp.corpus.common import thai_words\n",
    "from pythainlp.tokenize import dict_trie, word_tokenize\n",
    "from sklearn.feature_extraction.text import CountVectorizer\n",
    "from sklearn.tree import DecisionTreeClassifier"
   ]
  },
  {
   "cell_type": "markdown",
   "metadata": {},
   "source": [
    "### Import data"
   ]
  },
  {
   "cell_type": "code",
   "execution_count": 42,
   "metadata": {},
   "outputs": [
    {
     "data": {
      "text/html": [
       "<div>\n",
       "<style scoped>\n",
       "    .dataframe tbody tr th:only-of-type {\n",
       "        vertical-align: middle;\n",
       "    }\n",
       "\n",
       "    .dataframe tbody tr th {\n",
       "        vertical-align: top;\n",
       "    }\n",
       "\n",
       "    .dataframe thead th {\n",
       "        text-align: right;\n",
       "    }\n",
       "</style>\n",
       "<table border=\"1\" class=\"dataframe\">\n",
       "  <thead>\n",
       "    <tr style=\"text-align: right;\">\n",
       "      <th></th>\n",
       "      <th>date</th>\n",
       "      <th>text</th>\n",
       "      <th>money</th>\n",
       "      <th>cate</th>\n",
       "    </tr>\n",
       "  </thead>\n",
       "  <tbody>\n",
       "    <tr>\n",
       "      <th>50</th>\n",
       "      <td>9/10/2019</td>\n",
       "      <td>ค่ารถ</td>\n",
       "      <td>40.0</td>\n",
       "      <td>Transportation</td>\n",
       "    </tr>\n",
       "    <tr>\n",
       "      <th>51</th>\n",
       "      <td>9/10/2019</td>\n",
       "      <td>ชานม</td>\n",
       "      <td>90.0</td>\n",
       "      <td>Food</td>\n",
       "    </tr>\n",
       "    <tr>\n",
       "      <th>52</th>\n",
       "      <td>9/10/2019</td>\n",
       "      <td>ข้าวเย็น</td>\n",
       "      <td>80.0</td>\n",
       "      <td>Food</td>\n",
       "    </tr>\n",
       "    <tr>\n",
       "      <th>53</th>\n",
       "      <td>9/10/2019</td>\n",
       "      <td>โกโก้</td>\n",
       "      <td>35.0</td>\n",
       "      <td>Food</td>\n",
       "    </tr>\n",
       "    <tr>\n",
       "      <th>54</th>\n",
       "      <td>9/10/2019</td>\n",
       "      <td>ค่าหนัง</td>\n",
       "      <td>140.0</td>\n",
       "      <td>Entertainment</td>\n",
       "    </tr>\n",
       "  </tbody>\n",
       "</table>\n",
       "</div>"
      ],
      "text/plain": [
       "         date      text  money            cate\n",
       "50  9/10/2019     ค่ารถ   40.0  Transportation\n",
       "51  9/10/2019      ชานม   90.0            Food\n",
       "52  9/10/2019  ข้าวเย็น   80.0            Food\n",
       "53  9/10/2019     โกโก้   35.0            Food\n",
       "54  9/10/2019   ค่าหนัง  140.0   Entertainment"
      ]
     },
     "execution_count": 42,
     "metadata": {},
     "output_type": "execute_result"
    }
   ],
   "source": [
    "df = pd.read_csv(\"Expenses.csv\")\n",
    "df.tail()"
   ]
  },
  {
   "cell_type": "markdown",
   "metadata": {},
   "source": [
    "### Create Corpus"
   ]
  },
  {
   "cell_type": "code",
   "execution_count": 18,
   "metadata": {
    "scrolled": false
   },
   "outputs": [
    {
     "name": "stdout",
     "output_type": "stream",
     "text": [
      "['นม', 'ช็อคโกแลต', 'ข้าว', 'เที่ยง', 'น้ำ', 'กระเจี๊ยบ', 'ชา', 'ข้าวเย็น', 'ค่า', 'อินเตอร์เน็ต', 'ค่าโทรศัพท์', 'หมา', 'ล่า', 'ไอติม', 'ตัดผม', 'ซาลาเปา', 'ไส้กรอก', 'ดอย', 'คำ', 'ใบมีดโกน', 'ห้อง', 'Netflix', 'เงินเก็บ', 'ราเมง', 'นมเปรี้ยว', 'ขนมปัง', 'ขนม', 'arl', 'mrt', 'ซื้อ', 'กางเกง', 'ถั่ว', 'มาม่า', 'อิชิตัน', 'คาปูชิโน่', 'viu', 'บัวลอย', 'ค่ารถ', 'โกโก้', 'หนัง']\n"
     ]
    }
   ],
   "source": [
    "custom_dict = set(thai_words())\n",
    "custom_dict.add('ราเมง')\n",
    "custom_dict.add('คาปูชิโน่')\n",
    "trie = dict_trie(dict_source=custom_dict)\n",
    "\n",
    "# corpus = [word_tokenize(i, engine='dict', custom_dict=trie) for i in df.text]\n",
    "corpus = []\n",
    "for i in df.text:\n",
    "    for j in word_tokenize(i, engine='dict', custom_dict=trie):\n",
    "        if j not in corpus:\n",
    "            corpus.append(j)\n",
    "corpus\n",
    "print(corpus)"
   ]
  },
  {
   "cell_type": "markdown",
   "metadata": {},
   "source": [
    "### Create Bag of Word"
   ]
  },
  {
   "cell_type": "code",
   "execution_count": 53,
   "metadata": {
    "scrolled": false
   },
   "outputs": [],
   "source": [
    "BOW = [list() for i in range(len(df.text))]\n",
    "l = 0\n",
    "count = 1\n",
    "for i in df.text:\n",
    "    tmp = word_tokenize(i, engine='dict', custom_dict=trie)\n",
    "    for j in corpus:\n",
    "\n",
    "        if j in tmp:\n",
    "\n",
    "            BOW[l].append(1)\n",
    "            tmp.remove(j)\n",
    "        else:\n",
    "            BOW[l].append(0)\n",
    "        \n",
    "    if len(tmp) != 0:\n",
    "        BOW[l].append(len(tmp))\n",
    "    elif len(tmp) == 0:\n",
    "        BOW[l].append(0)\n",
    "    l += 1"
   ]
  },
  {
   "cell_type": "markdown",
   "metadata": {},
   "source": [
    "### Train Decision Tree model"
   ]
  },
  {
   "cell_type": "code",
   "execution_count": 54,
   "metadata": {},
   "outputs": [],
   "source": [
    "ytarget = df.cate\n",
    "xtrain = BOW\n",
    "\n",
    "dtree = DecisionTreeClassifier()\n",
    "dtree.fit(X=xtrain,y=ytarget)\n",
    "predictiontree = dtree.predict(xtrain)"
   ]
  },
  {
   "cell_type": "markdown",
   "metadata": {},
   "source": [
    "### Create Bag of Word form Test data"
   ]
  },
  {
   "cell_type": "code",
   "execution_count": 58,
   "metadata": {
    "scrolled": true
   },
   "outputs": [],
   "source": [
    "txt = ['ค่าหนัง', 'นม', 'ขนม']\n",
    "BOW_t = [list() for i in range(len(txt))]\n",
    "l = 0\n",
    "for i in txt:\n",
    "    tmp = word_tokenize(i, engine='dict', custom_dict=trie)\n",
    "    for j in corpus:\n",
    "\n",
    "        if j in tmp:\n",
    "\n",
    "            BOW_t[l].append(1)\n",
    "            tmp.remove(j)\n",
    "        else:\n",
    "            BOW_t[l].append(0)\n",
    "        \n",
    "    if len(tmp) != 0:\n",
    "        BOW_t[l].append(len(tmp))\n",
    "    elif len(tmp) == 0:\n",
    "        BOW_t[l].append(0)\n",
    "    l += 1"
   ]
  },
  {
   "cell_type": "markdown",
   "metadata": {},
   "source": [
    "### Predict Category "
   ]
  },
  {
   "cell_type": "code",
   "execution_count": 59,
   "metadata": {},
   "outputs": [
    {
     "data": {
      "text/plain": [
       "array(['Entertainment', 'Food', 'Food'], dtype=object)"
      ]
     },
     "execution_count": 59,
     "metadata": {},
     "output_type": "execute_result"
    }
   ],
   "source": [
    "predictiontree = dtree.predict(BOW_t)\n",
    "predictiontree"
   ]
  }
 ],
 "metadata": {
  "kernelspec": {
   "display_name": "Python 3",
   "language": "python",
   "name": "python3"
  },
  "language_info": {
   "codemirror_mode": {
    "name": "ipython",
    "version": 3
   },
   "file_extension": ".py",
   "mimetype": "text/x-python",
   "name": "python",
   "nbconvert_exporter": "python",
   "pygments_lexer": "ipython3",
   "version": "3.7.3"
  }
 },
 "nbformat": 4,
 "nbformat_minor": 2
}
