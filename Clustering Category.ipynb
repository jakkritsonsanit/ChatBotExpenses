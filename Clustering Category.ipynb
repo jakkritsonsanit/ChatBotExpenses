{
 "cells": [
  {
   "cell_type": "markdown",
   "metadata": {},
   "source": [
    "# Classify Category (Decision Tree)\n",
    "##### Mr.Jakkrit Sonsanit\n",
    "\n",
    "***"
   ]
  },
  {
   "cell_type": "markdown",
   "metadata": {},
   "source": [
    "### Import Library "
   ]
  },
  {
   "cell_type": "code",
   "execution_count": 1,
   "metadata": {},
   "outputs": [],
   "source": [
    "import pandas as pd\n",
    "import numpy as np\n",
    "from pythainlp.corpus.common import thai_words\n",
    "from pythainlp.tokenize import dict_trie, word_tokenize\n",
    "from sklearn.feature_extraction.text import CountVectorizer\n",
    "from sklearn.tree import DecisionTreeClassifier\n",
    "from sklearn import tree"
   ]
  },
  {
   "cell_type": "markdown",
   "metadata": {},
   "source": [
    "### Import data"
   ]
  },
  {
   "cell_type": "code",
   "execution_count": 2,
   "metadata": {},
   "outputs": [
    {
     "data": {
      "text/html": [
       "<div>\n",
       "<style scoped>\n",
       "    .dataframe tbody tr th:only-of-type {\n",
       "        vertical-align: middle;\n",
       "    }\n",
       "\n",
       "    .dataframe tbody tr th {\n",
       "        vertical-align: top;\n",
       "    }\n",
       "\n",
       "    .dataframe thead th {\n",
       "        text-align: right;\n",
       "    }\n",
       "</style>\n",
       "<table border=\"1\" class=\"dataframe\">\n",
       "  <thead>\n",
       "    <tr style=\"text-align: right;\">\n",
       "      <th></th>\n",
       "      <th>date</th>\n",
       "      <th>text</th>\n",
       "      <th>money</th>\n",
       "      <th>cate</th>\n",
       "    </tr>\n",
       "  </thead>\n",
       "  <tbody>\n",
       "    <tr>\n",
       "      <th>64</th>\n",
       "      <td>11/10/2019</td>\n",
       "      <td>พริกแกงหมู</td>\n",
       "      <td>50.0</td>\n",
       "      <td>Food</td>\n",
       "    </tr>\n",
       "    <tr>\n",
       "      <th>65</th>\n",
       "      <td>11/10/2019</td>\n",
       "      <td>น้ำเปล่า</td>\n",
       "      <td>70.0</td>\n",
       "      <td>Food</td>\n",
       "    </tr>\n",
       "    <tr>\n",
       "      <th>66</th>\n",
       "      <td>11/10/2019</td>\n",
       "      <td>นมเปรี้ยว</td>\n",
       "      <td>24.0</td>\n",
       "      <td>Food</td>\n",
       "    </tr>\n",
       "    <tr>\n",
       "      <th>67</th>\n",
       "      <td>12/10/2019</td>\n",
       "      <td>หมูกระทะ</td>\n",
       "      <td>159.0</td>\n",
       "      <td>Food</td>\n",
       "    </tr>\n",
       "    <tr>\n",
       "      <th>68</th>\n",
       "      <td>12/10/2019</td>\n",
       "      <td>ชานม</td>\n",
       "      <td>40.0</td>\n",
       "      <td>Food</td>\n",
       "    </tr>\n",
       "  </tbody>\n",
       "</table>\n",
       "</div>"
      ],
      "text/plain": [
       "          date        text  money  cate\n",
       "64  11/10/2019  พริกแกงหมู   50.0  Food\n",
       "65  11/10/2019    น้ำเปล่า   70.0  Food\n",
       "66  11/10/2019   นมเปรี้ยว   24.0  Food\n",
       "67  12/10/2019    หมูกระทะ  159.0  Food\n",
       "68  12/10/2019        ชานม   40.0  Food"
      ]
     },
     "execution_count": 2,
     "metadata": {},
     "output_type": "execute_result"
    }
   ],
   "source": [
    "df = pd.read_csv(\"Expenses.csv\")\n",
    "df.tail()"
   ]
  },
  {
   "cell_type": "markdown",
   "metadata": {},
   "source": [
    "### Create Corpus"
   ]
  },
  {
   "cell_type": "code",
   "execution_count": 22,
   "metadata": {
    "scrolled": false
   },
   "outputs": [
    {
     "name": "stdout",
     "output_type": "stream",
     "text": [
      "['นม', 'ช็อคโกแลต', 'ข้าว', 'เที่ยง', 'น้ำ', 'กระเจี๊ยบ', 'ชา', 'ข้าวเย็น', 'ค่า', 'อินเตอร์เน็ต', 'ค่าโทรศัพท์', 'หมา', 'ล่า', 'ไอติม', 'ตัดผม', 'ซาลาเปา', 'ไส้กรอก', 'ดอย', 'คำ', 'ใบมีดโกน', 'ห้อง', 'Netflix', 'เงินเก็บ', 'ราเมง', 'นมเปรี้ยว', 'ขนมปัง', 'ขนม', 'arl', 'mrt', 'ซื้อ', 'กางเกง', 'ถั่ว', 'มาม่า', 'อิชิตัน', 'คาปูชิโน่', 'viu', 'บัวลอย', 'ค่ารถ', 'โกโก้', 'หนัง', 'เติม', 'เกม', 'โอ้', 'เด้ง', 'ป็อป', 'คอน', 'เหล้า', 'กระ', 'เพรา', 'หอมมะลิ', 'หอย', 'ลาย', 'ปุ้ม', 'ปุ้ย', 'พริก', 'แกง', 'หมู', 'น้ำเปล่า', 'กระทะ']\n"
     ]
    }
   ],
   "source": [
    "custom_dict = set(thai_words())\n",
    "custom_dict.add('ราเมง')\n",
    "custom_dict.add('คาปูชิโน่')\n",
    "custom_dict.add('น้ำมัน')\n",
    "trie = dict_trie(dict_source=custom_dict)\n",
    "\n",
    "corpus = []\n",
    "for i in df.text:\n",
    "    for j in word_tokenize(i, engine='dict', custom_dict=trie):\n",
    "        if j not in corpus:\n",
    "            corpus.append(j)\n",
    "corpus\n",
    "print(corpus)"
   ]
  },
  {
   "cell_type": "markdown",
   "metadata": {},
   "source": [
    "### Create Bag of Word"
   ]
  },
  {
   "cell_type": "code",
   "execution_count": 23,
   "metadata": {
    "scrolled": false
   },
   "outputs": [],
   "source": [
    "BOW = [list() for i in range(len(df.text))]\n",
    "l = 0\n",
    "count = 1\n",
    "for i in df.text:\n",
    "    tmp = word_tokenize(i, engine='dict', custom_dict=trie)\n",
    "    for j in corpus:\n",
    "\n",
    "        if j in tmp:\n",
    "\n",
    "            BOW[l].append(1)\n",
    "            tmp.remove(j)\n",
    "            \n",
    "        else:\n",
    "            BOW[l].append(0)\n",
    "        \n",
    "    if len(tmp) != 0:\n",
    "        BOW[l].append(len(tmp))\n",
    "    elif len(tmp) == 0:\n",
    "        BOW[l].append(0)\n",
    "    l += 1"
   ]
  },
  {
   "cell_type": "markdown",
   "metadata": {},
   "source": [
    "### Train Decision Tree model"
   ]
  },
  {
   "cell_type": "code",
   "execution_count": 24,
   "metadata": {},
   "outputs": [],
   "source": [
    "ytarget = df.cate\n",
    "xtrain = BOW\n",
    "\n",
    "dtree = DecisionTreeClassifier()\n",
    "dtree.fit(X=xtrain,y=ytarget)\n",
    "predictiontree = dtree.predict(xtrain)"
   ]
  },
  {
   "cell_type": "markdown",
   "metadata": {},
   "source": [
    "### Create Bag of Word form Test data"
   ]
  },
  {
   "cell_type": "code",
   "execution_count": 25,
   "metadata": {
    "scrolled": true
   },
   "outputs": [],
   "source": [
    "txt = ['ค่าน้ำมัน']\n",
    "BOW_t = [list() for i in range(len(txt))]\n",
    "l = 0\n",
    "for i in txt:\n",
    "    tmp = word_tokenize(i, engine='dict', custom_dict=trie)\n",
    "    for j in corpus:\n",
    "\n",
    "        if j in tmp:\n",
    "\n",
    "            BOW_t[l].append(1)\n",
    "            tmp.remove(j)\n",
    "        else:\n",
    "            BOW_t[l].append(0)\n",
    "        \n",
    "    if len(tmp) != 0:\n",
    "        BOW_t[l].append(len(tmp))\n",
    "    elif len(tmp) == 0:\n",
    "        BOW_t[l].append(0)\n",
    "    l += 1"
   ]
  },
  {
   "cell_type": "markdown",
   "metadata": {},
   "source": [
    "### Predict Category "
   ]
  },
  {
   "cell_type": "code",
   "execution_count": 26,
   "metadata": {},
   "outputs": [
    {
     "data": {
      "text/plain": [
       "array(['Bill'], dtype=object)"
      ]
     },
     "execution_count": 26,
     "metadata": {},
     "output_type": "execute_result"
    }
   ],
   "source": [
    "predictiontree = dtree.predict(BOW_t)\n",
    "predictiontree"
   ]
  }
 ],
 "metadata": {
  "kernelspec": {
   "display_name": "Python 3",
   "language": "python",
   "name": "python3"
  },
  "language_info": {
   "codemirror_mode": {
    "name": "ipython",
    "version": 3
   },
   "file_extension": ".py",
   "mimetype": "text/x-python",
   "name": "python",
   "nbconvert_exporter": "python",
   "pygments_lexer": "ipython3",
   "version": "3.7.3"
  }
 },
 "nbformat": 4,
 "nbformat_minor": 2
}
