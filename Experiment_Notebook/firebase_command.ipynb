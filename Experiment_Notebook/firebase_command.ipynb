{
 "cells": [
  {
   "cell_type": "code",
   "execution_count": 15,
   "metadata": {},
   "outputs": [],
   "source": [
    "import pandas as pd\n",
    "import datetime"
   ]
  },
  {
   "cell_type": "code",
   "execution_count": 1,
   "metadata": {},
   "outputs": [],
   "source": [
    "import pyrebase\n",
    "import firebase_admin\n",
    "from firebase_admin import credentials\n",
    "from firebase_admin import db"
   ]
  },
  {
   "cell_type": "code",
   "execution_count": 2,
   "metadata": {},
   "outputs": [
    {
     "data": {
      "text/plain": [
       "<firebase_admin.App at 0x2381b5123c8>"
      ]
     },
     "execution_count": 2,
     "metadata": {},
     "output_type": "execute_result"
    }
   ],
   "source": [
    "# Fetch the service account key JSON file contents\n",
    "cred = credentials.Certificate('line-bot-chrins-firebase-adminsdk.json')\n",
    "\n",
    "# Initialize the app with a service account, granting admin privileges\n",
    "firebase_admin.initialize_app(cred, {\n",
    "    'databaseURL': 'https://line-bot-chrins.firebaseio.com'\n",
    "})"
   ]
  },
  {
   "cell_type": "code",
   "execution_count": 8,
   "metadata": {},
   "outputs": [],
   "source": [
    "# As an admin, the app has access to read and write all data, regradless of Security Rules\n",
    "ref = db.reference(\"/expenses\")\n"
   ]
  },
  {
   "cell_type": "code",
   "execution_count": 41,
   "metadata": {},
   "outputs": [],
   "source": [
    "# get data from dict to dataframe\n",
    "df = pd.DataFrame.from_dict(ref.get()).T"
   ]
  },
  {
   "cell_type": "code",
   "execution_count": 42,
   "metadata": {},
   "outputs": [
    {
     "data": {
      "text/html": [
       "<div>\n",
       "<style scoped>\n",
       "    .dataframe tbody tr th:only-of-type {\n",
       "        vertical-align: middle;\n",
       "    }\n",
       "\n",
       "    .dataframe tbody tr th {\n",
       "        vertical-align: top;\n",
       "    }\n",
       "\n",
       "    .dataframe thead th {\n",
       "        text-align: right;\n",
       "    }\n",
       "</style>\n",
       "<table border=\"1\" class=\"dataframe\">\n",
       "  <thead>\n",
       "    <tr style=\"text-align: right;\">\n",
       "      <th></th>\n",
       "      <th>date</th>\n",
       "      <th>money</th>\n",
       "      <th>text</th>\n",
       "    </tr>\n",
       "  </thead>\n",
       "  <tbody>\n",
       "    <tr>\n",
       "      <th>-M47crdazQX6TB0bs7fx</th>\n",
       "      <td>2020/4/5</td>\n",
       "      <td>50</td>\n",
       "      <td>กะเพรา</td>\n",
       "    </tr>\n",
       "    <tr>\n",
       "      <th>-M47cu2KhdKQCli9dL4Q</th>\n",
       "      <td>2020/4/5</td>\n",
       "      <td>14</td>\n",
       "      <td>น้ำ</td>\n",
       "    </tr>\n",
       "    <tr>\n",
       "      <th>-M49UnAlyLr-q0GQv0xy</th>\n",
       "      <td>2020/4/5</td>\n",
       "      <td>5768</td>\n",
       "      <td>ค่าห้อง</td>\n",
       "    </tr>\n",
       "    <tr>\n",
       "      <th>-M4m1V4K4tfk3fVuGDef</th>\n",
       "      <td>2020/4/13</td>\n",
       "      <td>145</td>\n",
       "      <td>ค่า Netflix</td>\n",
       "    </tr>\n",
       "    <tr>\n",
       "      <th>-M4m1uIgU5v1eER03OLz</th>\n",
       "      <td>2020/4/13</td>\n",
       "      <td>70</td>\n",
       "      <td>ค่า Spotify</td>\n",
       "    </tr>\n",
       "  </tbody>\n",
       "</table>\n",
       "</div>"
      ],
      "text/plain": [
       "                           date money         text\n",
       "-M47crdazQX6TB0bs7fx   2020/4/5    50       กะเพรา\n",
       "-M47cu2KhdKQCli9dL4Q   2020/4/5    14          น้ำ\n",
       "-M49UnAlyLr-q0GQv0xy   2020/4/5  5768      ค่าห้อง\n",
       "-M4m1V4K4tfk3fVuGDef  2020/4/13   145  ค่า Netflix\n",
       "-M4m1uIgU5v1eER03OLz  2020/4/13    70  ค่า Spotify"
      ]
     },
     "execution_count": 42,
     "metadata": {},
     "output_type": "execute_result"
    }
   ],
   "source": [
    "df.tail()"
   ]
  },
  {
   "cell_type": "code",
   "execution_count": 36,
   "metadata": {},
   "outputs": [],
   "source": [
    "# delete data from realtime firebase use python\n",
    "\n",
    "# index this want to delete\n",
    "df.index[-1]\n",
    "i = df.index[-1]\n",
    "\n",
    "db.reference(f\"/expenses/{i}\").delete()"
   ]
  },
  {
   "cell_type": "code",
   "execution_count": 26,
   "metadata": {},
   "outputs": [],
   "source": [
    "# saving data\n",
    "# set(with key), push(without key), update\n",
    "\n",
    "# create date\n",
    "d = datetime.datetime.today().strftime(\"%Y/%m/%d\")\n",
    "\n",
    "# create data to push\n",
    "data = {\"Date\":d, \"money\":90, \"text\":'ทั่วไป'}\n",
    "\n",
    "# \n",
    "ref.push(data)"
   ]
  }
 ],
 "metadata": {
  "kernelspec": {
   "display_name": "Python 3",
   "language": "python",
   "name": "python3"
  },
  "language_info": {
   "codemirror_mode": {
    "name": "ipython",
    "version": 3
   },
   "file_extension": ".py",
   "mimetype": "text/x-python",
   "name": "python",
   "nbconvert_exporter": "python",
   "pygments_lexer": "ipython3",
   "version": "3.7.6"
  }
 },
 "nbformat": 4,
 "nbformat_minor": 4
}
