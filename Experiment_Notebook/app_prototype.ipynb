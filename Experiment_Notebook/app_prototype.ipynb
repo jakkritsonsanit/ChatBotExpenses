{
 "cells": [
  {
   "cell_type": "code",
   "execution_count": 8,
   "metadata": {},
   "outputs": [],
   "source": [
    "import pandas as pd\n",
    "import joblib\n",
    "import re\n",
    "import numpy as np\n",
    "import datetime\n",
    "import pyrebase\n",
    "import firebase_admin\n",
    "\n",
    "from firebase_admin import credentials\n",
    "from firebase_admin import db\n",
    "from pythainlp.tokenize import dict_trie, word_tokenize\n",
    "from sklearn.pipeline import Pipeline\n",
    "from sklearn.feature_extraction.text import TfidfTransformer"
   ]
  },
  {
   "cell_type": "code",
   "execution_count": 16,
   "metadata": {},
   "outputs": [],
   "source": [
    "def get_BOW(text, corpus, trie, tfidf = True):\n",
    "    BOW = [list() for i in range(len(text))]\n",
    "    l = 0\n",
    "    count = 1\n",
    "    for i in text:\n",
    "        tmp = word_tokenize(i, engine='dict', custom_dict=trie)\n",
    "        for j in corpus:\n",
    "\n",
    "            if j in tmp:\n",
    "\n",
    "                BOW[l].append(tmp.count(j))\n",
    "                tmp.remove(j)\n",
    "\n",
    "            else:\n",
    "                BOW[l].append(0)\n",
    "\n",
    "        if len(tmp) != 0:\n",
    "            BOW[l].append(len(tmp))\n",
    "        elif len(tmp) == 0:\n",
    "            BOW[l].append(0)\n",
    "        l += 1\n",
    "        \n",
    "    BOW = np.array(BOW)\n",
    "    \n",
    "    if tfidf:\n",
    "        tfidf_transformer = TfidfTransformer()\n",
    "        return tfidf_transformer.fit_transform(BOW)\n",
    "    else:\n",
    "        return BOW\n",
    "    \n",
    "def labeling(code):\n",
    "    if code == 0:\n",
    "        return 'Income'\n",
    "    elif code == 1:\n",
    "        return 'Expenses'"
   ]
  },
  {
   "cell_type": "code",
   "execution_count": 3,
   "metadata": {},
   "outputs": [],
   "source": [
    "model = joblib.load('text_clf.sav')\n",
    "corpus = joblib.load('corpus.sav')\n",
    "cus_dict = joblib.load('cus_dict.sav')"
   ]
  },
  {
   "cell_type": "markdown",
   "metadata": {},
   "source": [
    "### Pipeline"
   ]
  },
  {
   "cell_type": "code",
   "execution_count": 12,
   "metadata": {},
   "outputs": [
    {
     "data": {
      "text/plain": [
       "<firebase_admin.App at 0x109c7fa8688>"
      ]
     },
     "execution_count": 12,
     "metadata": {},
     "output_type": "execute_result"
    }
   ],
   "source": [
    "# Fetch the service account key JSON file contents\n",
    "cred = credentials.Certificate('line-bot-chrins-firebase-adminsdk.json')\n",
    "\n",
    "# Initialize the app with a service account, granting admin privileges\n",
    "firebase_admin.initialize_app(cred, {\n",
    "    'databaseURL': 'https://line-bot-chrins.firebaseio.com'\n",
    "})"
   ]
  },
  {
   "cell_type": "code",
   "execution_count": 71,
   "metadata": {},
   "outputs": [],
   "source": [
    "text = 'ซื้อน้ำ 20 บาท'"
   ]
  },
  {
   "cell_type": "code",
   "execution_count": 5,
   "metadata": {},
   "outputs": [],
   "source": [
    "money = int(re.findall(\"[0-9]+\", text)[0])"
   ]
  },
  {
   "cell_type": "code",
   "execution_count": 80,
   "metadata": {},
   "outputs": [],
   "source": [
    "expression = r\"(.*?)[0-9]\"\n",
    "t = re.findall(expression, text)[0].replace(' ', '')"
   ]
  },
  {
   "cell_type": "code",
   "execution_count": 43,
   "metadata": {},
   "outputs": [
    {
     "name": "stdout",
     "output_type": "stream",
     "text": [
      "<re.Match object; span=(12, 17), match='Spain'>\n"
     ]
    }
   ],
   "source": [
    "txt = \"The rain in Spain\"\n",
    "x = re.search(r\"\\bS\\w+\", txt)\n",
    "print(x)"
   ]
  },
  {
   "cell_type": "code",
   "execution_count": 17,
   "metadata": {},
   "outputs": [],
   "source": [
    "tmp = get_BOW([text], corpus, cus_dict)\n",
    "label = labeling(model.predict(tmp))"
   ]
  },
  {
   "cell_type": "code",
   "execution_count": 19,
   "metadata": {},
   "outputs": [],
   "source": [
    "ref = db.reference(\"/\")"
   ]
  },
  {
   "cell_type": "code",
   "execution_count": 83,
   "metadata": {},
   "outputs": [
    {
     "data": {
      "text/plain": [
       "<firebase_admin.db.Reference at 0x109c426b5c8>"
      ]
     },
     "execution_count": 83,
     "metadata": {},
     "output_type": "execute_result"
    }
   ],
   "source": [
    "# saving data\n",
    "# set(with key), push(without key), update\n",
    "\n",
    "# create date\n",
    "d = datetime.datetime.today().strftime(\"%Y/%m/%d\")\n",
    "\n",
    "# create data to push\n",
    "data = {\"Date\":d, \"money\":money, \"text\":t, 'type':label}\n",
    "\n",
    "# \n",
    "ref.push(data)"
   ]
  },
  {
   "cell_type": "markdown",
   "metadata": {},
   "source": [
    "---"
   ]
  }
 ],
 "metadata": {
  "kernelspec": {
   "display_name": "Python 3",
   "language": "python",
   "name": "python3"
  },
  "language_info": {
   "codemirror_mode": {
    "name": "ipython",
    "version": 3
   },
   "file_extension": ".py",
   "mimetype": "text/x-python",
   "name": "python",
   "nbconvert_exporter": "python",
   "pygments_lexer": "ipython3",
   "version": "3.7.6"
  }
 },
 "nbformat": 4,
 "nbformat_minor": 4
}
