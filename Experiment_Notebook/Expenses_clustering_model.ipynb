{
 "cells": [
  {
   "cell_type": "code",
   "execution_count": 9,
   "metadata": {},
   "outputs": [],
   "source": [
    "import pandas as pd\n",
    "import numpy as np\n",
    "import json"
   ]
  },
  {
   "cell_type": "code",
   "execution_count": 18,
   "metadata": {},
   "outputs": [],
   "source": [
    "file = open('Data/line-bot-chrins-export.json', encoding='utf-8')"
   ]
  },
  {
   "cell_type": "code",
   "execution_count": 19,
   "metadata": {},
   "outputs": [],
   "source": [
    "data = json.load(file)"
   ]
  },
  {
   "cell_type": "code",
   "execution_count": 23,
   "metadata": {},
   "outputs": [],
   "source": [
    "del data['bmi']"
   ]
  },
  {
   "cell_type": "code",
   "execution_count": 27,
   "metadata": {},
   "outputs": [],
   "source": [
    "expenses_df = pd.DataFrame.from_dict(data['expenses']).T"
   ]
  },
  {
   "cell_type": "code",
   "execution_count": 28,
   "metadata": {},
   "outputs": [
    {
     "data": {
      "text/html": [
       "<div>\n",
       "<style scoped>\n",
       "    .dataframe tbody tr th:only-of-type {\n",
       "        vertical-align: middle;\n",
       "    }\n",
       "\n",
       "    .dataframe tbody tr th {\n",
       "        vertical-align: top;\n",
       "    }\n",
       "\n",
       "    .dataframe thead th {\n",
       "        text-align: right;\n",
       "    }\n",
       "</style>\n",
       "<table border=\"1\" class=\"dataframe\">\n",
       "  <thead>\n",
       "    <tr style=\"text-align: right;\">\n",
       "      <th></th>\n",
       "      <th>date</th>\n",
       "      <th>money</th>\n",
       "      <th>text</th>\n",
       "    </tr>\n",
       "  </thead>\n",
       "  <tbody>\n",
       "    <tr>\n",
       "      <th>-LqReJpCP9lY2jAui0C8</th>\n",
       "      <td>2019/10/1</td>\n",
       "      <td>12</td>\n",
       "      <td>นมช็อคโกแลต</td>\n",
       "    </tr>\n",
       "    <tr>\n",
       "      <th>-LqReMSs0GuMqp-P-sMj</th>\n",
       "      <td>2019/10/1</td>\n",
       "      <td>35</td>\n",
       "      <td>ข้าวเที่ยง</td>\n",
       "    </tr>\n",
       "    <tr>\n",
       "      <th>-LqReMw0gwcFp1uB-W2J</th>\n",
       "      <td>2019/10/1</td>\n",
       "      <td>5</td>\n",
       "      <td>น้ำกระเจี๊ยบ</td>\n",
       "    </tr>\n",
       "    <tr>\n",
       "      <th>-LqReO0DIuuRn7C-KCA3</th>\n",
       "      <td>2019/10/1</td>\n",
       "      <td>35</td>\n",
       "      <td>ชานม</td>\n",
       "    </tr>\n",
       "    <tr>\n",
       "      <th>-LqRePWEGGa8jbdZF1Bn</th>\n",
       "      <td>2019/10/1</td>\n",
       "      <td>50</td>\n",
       "      <td>ข้าวเย็น</td>\n",
       "    </tr>\n",
       "    <tr>\n",
       "      <th>...</th>\n",
       "      <td>...</td>\n",
       "      <td>...</td>\n",
       "      <td>...</td>\n",
       "    </tr>\n",
       "    <tr>\n",
       "      <th>-M47crdazQX6TB0bs7fx</th>\n",
       "      <td>2020/4/5</td>\n",
       "      <td>50</td>\n",
       "      <td>กะเพรา</td>\n",
       "    </tr>\n",
       "    <tr>\n",
       "      <th>-M47cu2KhdKQCli9dL4Q</th>\n",
       "      <td>2020/4/5</td>\n",
       "      <td>14</td>\n",
       "      <td>น้ำ</td>\n",
       "    </tr>\n",
       "    <tr>\n",
       "      <th>-M49UnAlyLr-q0GQv0xy</th>\n",
       "      <td>2020/4/5</td>\n",
       "      <td>5768</td>\n",
       "      <td>ค่าห้อง</td>\n",
       "    </tr>\n",
       "    <tr>\n",
       "      <th>-M4m1V4K4tfk3fVuGDef</th>\n",
       "      <td>2020/4/13</td>\n",
       "      <td>145</td>\n",
       "      <td>ค่า Netflix</td>\n",
       "    </tr>\n",
       "    <tr>\n",
       "      <th>-M4m1uIgU5v1eER03OLz</th>\n",
       "      <td>2020/4/13</td>\n",
       "      <td>70</td>\n",
       "      <td>ค่า Spotify</td>\n",
       "    </tr>\n",
       "  </tbody>\n",
       "</table>\n",
       "<p>763 rows × 3 columns</p>\n",
       "</div>"
      ],
      "text/plain": [
       "                           date money          text\n",
       "-LqReJpCP9lY2jAui0C8  2019/10/1    12   นมช็อคโกแลต\n",
       "-LqReMSs0GuMqp-P-sMj  2019/10/1    35    ข้าวเที่ยง\n",
       "-LqReMw0gwcFp1uB-W2J  2019/10/1     5  น้ำกระเจี๊ยบ\n",
       "-LqReO0DIuuRn7C-KCA3  2019/10/1    35          ชานม\n",
       "-LqRePWEGGa8jbdZF1Bn  2019/10/1    50      ข้าวเย็น\n",
       "...                         ...   ...           ...\n",
       "-M47crdazQX6TB0bs7fx   2020/4/5    50        กะเพรา\n",
       "-M47cu2KhdKQCli9dL4Q   2020/4/5    14           น้ำ\n",
       "-M49UnAlyLr-q0GQv0xy   2020/4/5  5768       ค่าห้อง\n",
       "-M4m1V4K4tfk3fVuGDef  2020/4/13   145   ค่า Netflix\n",
       "-M4m1uIgU5v1eER03OLz  2020/4/13    70   ค่า Spotify\n",
       "\n",
       "[763 rows x 3 columns]"
      ]
     },
     "execution_count": 28,
     "metadata": {},
     "output_type": "execute_result"
    }
   ],
   "source": [
    "expenses_df"
   ]
  },
  {
   "cell_type": "code",
   "execution_count": null,
   "metadata": {},
   "outputs": [],
   "source": []
  }
 ],
 "metadata": {
  "kernelspec": {
   "display_name": "Python 3",
   "language": "python",
   "name": "python3"
  },
  "language_info": {
   "codemirror_mode": {
    "name": "ipython",
    "version": 3
   },
   "file_extension": ".py",
   "mimetype": "text/x-python",
   "name": "python",
   "nbconvert_exporter": "python",
   "pygments_lexer": "ipython3",
   "version": "3.7.6"
  }
 },
 "nbformat": 4,
 "nbformat_minor": 4
}
