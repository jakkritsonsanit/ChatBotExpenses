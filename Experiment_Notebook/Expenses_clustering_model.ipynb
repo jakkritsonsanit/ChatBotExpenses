{
 "cells": [
  {
   "cell_type": "code",
   "execution_count": 42,
   "metadata": {},
   "outputs": [],
   "source": [
    "import pandas as pd\n",
    "import numpy as np\n",
    "import json\n",
    "import xgboost as xgb\n",
    "import joblib\n",
    "import sys\n",
    "\n",
    "from pythainlp.corpus.common import thai_words\n",
    "from sklearn.feature_extraction.text import TfidfTransformer\n",
    "from pythainlp.tokenize import dict_trie, word_tokenize\n",
    "from sklearn.model_selection import cross_val_score"
   ]
  },
  {
   "cell_type": "code",
   "execution_count": 45,
   "metadata": {},
   "outputs": [],
   "source": [
    "sys.path.append('..')"
   ]
  },
  {
   "cell_type": "code",
   "execution_count": null,
   "metadata": {},
   "outputs": [],
   "source": []
  },
  {
   "cell_type": "markdown",
   "metadata": {},
   "source": [
    "#### Function"
   ]
  },
  {
   "cell_type": "code",
   "execution_count": 14,
   "metadata": {},
   "outputs": [],
   "source": [
    "def get_dict(word_list):\n",
    "    \"\"\"\n",
    "    This function customize dict\n",
    "    \n",
    "    Parameters\n",
    "    ------------\n",
    "    word_list: add word to dict for tokenize\n",
    "    \"\"\"\n",
    "    custom_dict = set(thai_words())\n",
    "    for i in word_list:\n",
    "        custom_dict.add(i)\n",
    "    trie = dict_trie(dict_source=custom_dict)\n",
    "    return trie\n",
    "\n",
    "def get_corpus(text, trie):\n",
    "    \"\"\"\n",
    "    This function create corpus from list text\n",
    "    \n",
    "    Parameters\n",
    "    ------------\n",
    "    text: list of text\n",
    "    \"\"\"\n",
    "    corpus = []\n",
    "    for i in text:\n",
    "        for j in word_tokenize(i, engine='dict', custom_dict=trie):\n",
    "            if j not in corpus:\n",
    "                corpus.append(j)\n",
    "    return corpus\n",
    "\n",
    "def get_BOW(text, corpus, trie, tfidf = True):\n",
    "    BOW = [list() for i in range(len(text))]\n",
    "    l = 0\n",
    "    count = 1\n",
    "    for i in text:\n",
    "        tmp = word_tokenize(i, engine='dict', custom_dict=trie)\n",
    "        for j in corpus:\n",
    "\n",
    "            if j in tmp:\n",
    "\n",
    "                BOW[l].append(tmp.count(j))\n",
    "                tmp.remove(j)\n",
    "\n",
    "            else:\n",
    "                BOW[l].append(0)\n",
    "\n",
    "        if len(tmp) != 0:\n",
    "            BOW[l].append(len(tmp))\n",
    "        elif len(tmp) == 0:\n",
    "            BOW[l].append(0)\n",
    "        l += 1\n",
    "        \n",
    "    BOW = np.array(BOW)\n",
    "    \n",
    "    if tfidf:\n",
    "        tfidf_transformer = TfidfTransformer()\n",
    "        return tfidf_transformer.fit_transform(BOW)\n",
    "    else:\n",
    "        return BOW"
   ]
  },
  {
   "cell_type": "code",
   "execution_count": 15,
   "metadata": {},
   "outputs": [],
   "source": [
    "file = open('Data/line-bot-chrins-export.json', encoding='utf-8')\n",
    "data = json.load(file)\n",
    "del data['bmi']\n",
    "expenses_df = pd.DataFrame.from_dict(data['expenses']).T\n",
    "income_df = pd.DataFrame.from_dict(data['income']).T\n",
    "income_df.drop(\"-LwSJ24Y1cVwv83oCbTJ\", inplace = True)\n",
    "\n",
    "income_df.loc[:, \"Label\"] = 'income'\n",
    "expenses_df.loc[:, \"Label\"] = 'expenses'\n",
    "\n",
    "df = pd.concat([expenses_df, income_df])"
   ]
  },
  {
   "cell_type": "code",
   "execution_count": 16,
   "metadata": {},
   "outputs": [],
   "source": [
    "word_list = ['ราเมง', 'อิเกีย', 'คาปูชิโน่', 'น้ำมัน','หอยลาย', 'ปุ้มปุ้ย']\n",
    "cus_dict = get_dict(word_list)\n",
    "corpus = get_corpus(df.text, cus_dict)\n",
    "X_train_tfidf = get_BOW(df.text, corpus, cus_dict)"
   ]
  },
  {
   "cell_type": "code",
   "execution_count": 17,
   "metadata": {},
   "outputs": [
    {
     "data": {
      "text/plain": [
       "XGBRFClassifier(base_score=0.5, booster=None, colsample_bylevel=1,\n",
       "                colsample_bynode=0.8, colsample_bytree=1, gamma=0, gpu_id=-1,\n",
       "                importance_type='gain', interaction_constraints=None,\n",
       "                learning_rate=1, max_delta_step=0, max_depth=6,\n",
       "                min_child_weight=1, missing=nan, monotone_constraints=None,\n",
       "                n_estimators=100, n_jobs=0, num_parallel_tree=100,\n",
       "                objective='binary:logistic', random_state=0, reg_alpha=0,\n",
       "                reg_lambda=1e-05, scale_pos_weight=1, subsample=0.8,\n",
       "                tree_method=None, validate_parameters=False, verbosity=None)"
      ]
     },
     "execution_count": 17,
     "metadata": {},
     "output_type": "execute_result"
    }
   ],
   "source": [
    "clf_xgb = xgb.XGBRFClassifier()\n",
    "clf_xgb.fit(X_train_tfidf, df.Label)"
   ]
  },
  {
   "cell_type": "code",
   "execution_count": 18,
   "metadata": {},
   "outputs": [],
   "source": [
    "X_test_tfidf = get_BOW(['ได้เงิน'], corpus, cus_dict)"
   ]
  },
  {
   "cell_type": "code",
   "execution_count": 19,
   "metadata": {},
   "outputs": [
    {
     "data": {
      "text/plain": [
       "array(['income'], dtype=object)"
      ]
     },
     "execution_count": 19,
     "metadata": {},
     "output_type": "execute_result"
    }
   ],
   "source": [
    "clf_xgb.predict(X_test_tfidf)"
   ]
  },
  {
   "cell_type": "markdown",
   "metadata": {},
   "source": [
    "#### Export finalized model"
   ]
  },
  {
   "cell_type": "code",
   "execution_count": 20,
   "metadata": {},
   "outputs": [
    {
     "data": {
      "text/plain": [
       "['text_clf.sav']"
      ]
     },
     "execution_count": 20,
     "metadata": {},
     "output_type": "execute_result"
    }
   ],
   "source": [
    "joblib.dump(clf_xgb, 'text_clf.sav')"
   ]
  },
  {
   "cell_type": "code",
   "execution_count": 21,
   "metadata": {},
   "outputs": [
    {
     "data": {
      "text/plain": [
       "['cus_dict.sav']"
      ]
     },
     "execution_count": 21,
     "metadata": {},
     "output_type": "execute_result"
    }
   ],
   "source": [
    "joblib.dump(corpus, 'corpus.sav')\n",
    "joblib.dump(cus_dict, 'cus_dict.sav')"
   ]
  },
  {
   "cell_type": "markdown",
   "metadata": {},
   "source": [
    "---"
   ]
  },
  {
   "cell_type": "markdown",
   "metadata": {},
   "source": [
    "#### classify category"
   ]
  },
  {
   "cell_type": "code",
   "execution_count": 22,
   "metadata": {},
   "outputs": [
    {
     "data": {
      "text/html": [
       "<div>\n",
       "<style scoped>\n",
       "    .dataframe tbody tr th:only-of-type {\n",
       "        vertical-align: middle;\n",
       "    }\n",
       "\n",
       "    .dataframe tbody tr th {\n",
       "        vertical-align: top;\n",
       "    }\n",
       "\n",
       "    .dataframe thead th {\n",
       "        text-align: right;\n",
       "    }\n",
       "</style>\n",
       "<table border=\"1\" class=\"dataframe\">\n",
       "  <thead>\n",
       "    <tr style=\"text-align: right;\">\n",
       "      <th></th>\n",
       "      <th>date</th>\n",
       "      <th>text</th>\n",
       "      <th>money</th>\n",
       "      <th>cate</th>\n",
       "    </tr>\n",
       "  </thead>\n",
       "  <tbody>\n",
       "    <tr>\n",
       "      <th>642</th>\n",
       "      <td>2020-02-27</td>\n",
       "      <td>ค่าอินเตอร์เน็ต</td>\n",
       "      <td>631.3</td>\n",
       "      <td>Bill</td>\n",
       "    </tr>\n",
       "    <tr>\n",
       "      <th>643</th>\n",
       "      <td>2020-02-27</td>\n",
       "      <td>ข้าวเย็น</td>\n",
       "      <td>40.0</td>\n",
       "      <td>Food</td>\n",
       "    </tr>\n",
       "    <tr>\n",
       "      <th>644</th>\n",
       "      <td>2020-02-27</td>\n",
       "      <td>ไข่ต้ม</td>\n",
       "      <td>11.0</td>\n",
       "      <td>Food</td>\n",
       "    </tr>\n",
       "    <tr>\n",
       "      <th>645</th>\n",
       "      <td>2020-02-27</td>\n",
       "      <td>น้ำ</td>\n",
       "      <td>35.0</td>\n",
       "      <td>Food</td>\n",
       "    </tr>\n",
       "    <tr>\n",
       "      <th>646</th>\n",
       "      <td>2020-02-27</td>\n",
       "      <td>ขนม</td>\n",
       "      <td>58.0</td>\n",
       "      <td>Food</td>\n",
       "    </tr>\n",
       "  </tbody>\n",
       "</table>\n",
       "</div>"
      ],
      "text/plain": [
       "           date             text  money  cate\n",
       "642  2020-02-27  ค่าอินเตอร์เน็ต  631.3  Bill\n",
       "643  2020-02-27         ข้าวเย็น   40.0  Food\n",
       "644  2020-02-27           ไข่ต้ม   11.0  Food\n",
       "645  2020-02-27              น้ำ   35.0  Food\n",
       "646  2020-02-27              ขนม   58.0  Food"
      ]
     },
     "execution_count": 22,
     "metadata": {},
     "output_type": "execute_result"
    }
   ],
   "source": [
    "df = pd.read_csv(\"Data/Expenses.csv\")\n",
    "df.tail()"
   ]
  },
  {
   "cell_type": "code",
   "execution_count": 23,
   "metadata": {},
   "outputs": [],
   "source": [
    "word_list = ['ราเมง', 'อิเกีย', 'คาปูชิโน่', 'น้ำมัน','หอยลาย', 'ปุ้มปุ้ย']\n",
    "cus_dict = get_dict(word_list)\n",
    "corpus = get_corpus(df.text, cus_dict)\n",
    "X_train_tfidf = get_BOW(df.text, corpus, cus_dict)"
   ]
  },
  {
   "cell_type": "code",
   "execution_count": 24,
   "metadata": {},
   "outputs": [
    {
     "data": {
      "text/plain": [
       "XGBRFClassifier(base_score=0.5, booster=None, colsample_bylevel=1,\n",
       "                colsample_bynode=0.8, colsample_bytree=1, gamma=0, gpu_id=-1,\n",
       "                importance_type='gain', interaction_constraints=None,\n",
       "                learning_rate=1, max_delta_step=0, max_depth=6,\n",
       "                min_child_weight=1, missing=nan, monotone_constraints=None,\n",
       "                n_estimators=100, n_jobs=0, num_parallel_tree=100,\n",
       "                objective='multi:softprob', random_state=0, reg_alpha=0,\n",
       "                reg_lambda=1e-05, scale_pos_weight=None, subsample=0.8,\n",
       "                tree_method=None, validate_parameters=False, verbosity=None)"
      ]
     },
     "execution_count": 24,
     "metadata": {},
     "output_type": "execute_result"
    }
   ],
   "source": [
    "clf_cate_xgb = xgb.XGBRFClassifier()\n",
    "clf_cate_xgb.fit(X_train_tfidf, df.cate)"
   ]
  },
  {
   "cell_type": "markdown",
   "metadata": {},
   "source": [
    "#### Export finalized model"
   ]
  },
  {
   "cell_type": "code",
   "execution_count": 25,
   "metadata": {},
   "outputs": [
    {
     "data": {
      "text/plain": [
       "['cate_clf.sav']"
      ]
     },
     "execution_count": 25,
     "metadata": {},
     "output_type": "execute_result"
    }
   ],
   "source": [
    "joblib.dump(clf_cate_xgb, 'cate_clf.sav')"
   ]
  },
  {
   "cell_type": "code",
   "execution_count": null,
   "metadata": {},
   "outputs": [],
   "source": [
    "import pandas as pd\n",
    "import joblib\n",
    "import re\n",
    "import numpy as np\n",
    "import datetime\n",
    "import pyrebase\n",
    "import firebase_admin\n",
    "\n",
    "from firebase_admin import credentials\n",
    "from firebase_admin import db\n",
    "from pythainlp.tokenize import dict_trie, word_tokenize\n",
    "from sklearn.pipeline import Pipeline\n",
    "from sklearn.feature_extraction.text import TfidfTransformer\n",
    "\n",
    "class chat:\n",
    "\n",
    "    def __init__(self, label, text, money):\n",
    "        self.label = label\n",
    "        self.money = money\n",
    "        self.text = text\n",
    "\n",
    "        if self.label == 'expenses':\n",
    "            cate_clf = joblib.load('asset/cate_clf.sav')\n",
    "            tmp = get_BOW([self.text], corpus, cus_dict)\n",
    "            pred = cate_clf.predict(tmp)\n",
    "            \n",
    "            self.cate = pred\n",
    "            \n",
    "        elif self.label == 'income':\n",
    "            self.cate = 'income'\n",
    "\n",
    "def main(chat_text):\n",
    "    model = joblib.load('asset/text_clf.sav')\n",
    "    corpus = joblib.load('asset/corpus.sav')\n",
    "    cus_dict = joblib.load('asset/cus_dict.sav')\n",
    "\n",
    "    money = int(re.findall(\"[0-9]+\", chat_text)[0])\n",
    "    expression = r\"(.*?)[0-9]\"\n",
    "    t = re.findall(expression, chat_text)[0].replace(' ', '')\n",
    "\n",
    "    tmp = get_BOW([chat_text], corpus, cus_dict)\n",
    "    pred = model.predict(tmp)\n",
    "\n",
    "    chat_data = chat(pred[0], t, money)\n",
    "\n",
    "    update_db(chat_data)\n",
    "\n",
    "def update_db(chat_data)\n",
    "    # Fetch the service account key JSON file contents\n",
    "    cred = credentials.Certificate('line-bot-chrins-firebase-adminsdk.json')\n",
    "\n",
    "    # Initialize the app with a service account, granting admin privileges\n",
    "    firebase_admin.initialize_app(cred, {\n",
    "        'databaseURL': 'https://line-bot-chrins.firebaseio.com'\n",
    "    })\n",
    "    ref = db.reference(\"/\")\n",
    "\n",
    "    d = datetime.datetime.today().strftime(\"%Y/%m/%d\")\n",
    "    data = {\"Date\":d, \"money\":chat_data.money, \"text\":chat_data.text, 'type':chat_data.label, 'cate':chat_data.cate}\n",
    "    ref.push(data)\n",
    "\n",
    "\n",
    "def get_BOW(text, corpus, trie, tfidf = True):\n",
    "    BOW = [list() for i in range(len(text))]\n",
    "    l = 0\n",
    "    count = 1\n",
    "    for i in text:\n",
    "        tmp = word_tokenize(i, engine='dict', custom_dict=trie)\n",
    "        for j in corpus:\n",
    "\n",
    "            if j in tmp:\n",
    "\n",
    "                BOW[l].append(tmp.count(j))\n",
    "                tmp.remove(j)\n",
    "\n",
    "            else:\n",
    "                BOW[l].append(0)\n",
    "\n",
    "        if len(tmp) != 0:\n",
    "            BOW[l].append(len(tmp))\n",
    "        elif len(tmp) == 0:\n",
    "            BOW[l].append(0)\n",
    "        l += 1\n",
    "        \n",
    "    BOW = np.array(BOW)\n",
    "    \n",
    "    if tfidf:\n",
    "        tfidf_transformer = TfidfTransformer()\n",
    "        return tfidf_transformer.fit_transform(BOW)\n",
    "    else:\n",
    "        return BOW"
   ]
  },
  {
   "cell_type": "code",
   "execution_count": 35,
   "metadata": {},
   "outputs": [],
   "source": [
    "class chat:\n",
    "\n",
    "    def __init__(self, label, text, money):\n",
    "        self.label = label\n",
    "        self.money = money\n",
    "        self.text = text\n",
    "\n",
    "        if self.label == 'expenses':\n",
    "            cate_clf = joblib.load('cate_clf.sav')\n",
    "            tmp = get_BOW([self.text], corpus, cus_dict)\n",
    "            pred = cate_clf.predict(tmp)\n",
    "            \n",
    "            self.cate = pred\n",
    "            \n",
    "        elif self.label == 'income':\n",
    "            self.cate = 'income'\n",
    "            \n",
    "def main(chat_text):\n",
    "    model = joblib.load('text_clf.sav')\n",
    "    corpus = joblib.load('corpus.sav')\n",
    "    cus_dict = joblib.load('cus_dict.sav')\n",
    "\n",
    "    money = int(re.findall(\"[0-9]+\", chat_text)[0])\n",
    "    expression = r\"(.*?)[0-9]\"\n",
    "    t = re.findall(expression, chat_text)[0].replace(' ', '')\n",
    "\n",
    "    tmp = get_BOW([chat_text], corpus, cus_dict)\n",
    "    pred = model.predict(tmp)\n",
    "\n",
    "    return chat(pred[0], t, money)"
   ]
  },
  {
   "cell_type": "code",
   "execution_count": 39,
   "metadata": {},
   "outputs": [],
   "source": [
    "d = main('ขนม 25')"
   ]
  },
  {
   "cell_type": "code",
   "execution_count": 41,
   "metadata": {},
   "outputs": [
    {
     "data": {
      "text/plain": [
       "array(['Food'], dtype=object)"
      ]
     },
     "execution_count": 41,
     "metadata": {},
     "output_type": "execute_result"
    }
   ],
   "source": [
    "d.cate"
   ]
  },
  {
   "cell_type": "code",
   "execution_count": null,
   "metadata": {},
   "outputs": [],
   "source": []
  }
 ],
 "metadata": {
  "kernelspec": {
   "display_name": "Python 3",
   "language": "python",
   "name": "python3"
  },
  "language_info": {
   "codemirror_mode": {
    "name": "ipython",
    "version": 3
   },
   "file_extension": ".py",
   "mimetype": "text/x-python",
   "name": "python",
   "nbconvert_exporter": "python",
   "pygments_lexer": "ipython3",
   "version": "3.7.6"
  }
 },
 "nbformat": 4,
 "nbformat_minor": 4
}
