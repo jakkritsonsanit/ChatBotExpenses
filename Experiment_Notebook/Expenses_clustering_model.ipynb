{
 "cells": [
  {
   "cell_type": "code",
   "execution_count": 137,
   "metadata": {},
   "outputs": [],
   "source": [
    "import pandas as pd\n",
    "import numpy as np\n",
    "import json\n",
    "import xgboost as xgb\n",
    "import joblib\n",
    "\n",
    "from pythainlp.corpus.common import thai_words\n",
    "from sklearn.feature_extraction.text import TfidfTransformer\n",
    "from pythainlp.tokenize import dict_trie, word_tokenize\n",
    "from sklearn.model_selection import cross_val_score"
   ]
  },
  {
   "cell_type": "markdown",
   "metadata": {},
   "source": [
    "#### Function"
   ]
  },
  {
   "cell_type": "code",
   "execution_count": 138,
   "metadata": {},
   "outputs": [],
   "source": [
    "def get_dict(word_list):\n",
    "    \"\"\"\n",
    "    This function customize dict\n",
    "    \n",
    "    Parameters\n",
    "    ------------\n",
    "    word_list: add word to dict for tokenize\n",
    "    \"\"\"\n",
    "    custom_dict = set(thai_words())\n",
    "    for i in word_list:\n",
    "        custom_dict.add(i)\n",
    "    trie = dict_trie(dict_source=custom_dict)\n",
    "    return trie\n",
    "\n",
    "def get_corpus(text, trie):\n",
    "    \"\"\"\n",
    "    This function create corpus from list text\n",
    "    \n",
    "    Parameters\n",
    "    ------------\n",
    "    text: list of text\n",
    "    \"\"\"\n",
    "    corpus = []\n",
    "    for i in text:\n",
    "        for j in word_tokenize(i, engine='dict', custom_dict=trie):\n",
    "            if j not in corpus:\n",
    "                corpus.append(j)\n",
    "    return corpus\n",
    "\n",
    "def get_BOW(text, corpus, trie, tfidf = True):\n",
    "    BOW = [list() for i in range(len(text))]\n",
    "    l = 0\n",
    "    count = 1\n",
    "    for i in text:\n",
    "        tmp = word_tokenize(i, engine='dict', custom_dict=trie)\n",
    "        for j in corpus:\n",
    "\n",
    "            if j in tmp:\n",
    "\n",
    "                BOW[l].append(tmp.count(j))\n",
    "                tmp.remove(j)\n",
    "\n",
    "            else:\n",
    "                BOW[l].append(0)\n",
    "\n",
    "        if len(tmp) != 0:\n",
    "            BOW[l].append(len(tmp))\n",
    "        elif len(tmp) == 0:\n",
    "            BOW[l].append(0)\n",
    "        l += 1\n",
    "        \n",
    "    BOW = np.array(BOW)\n",
    "    \n",
    "    if tfidf:\n",
    "        tfidf_transformer = TfidfTransformer()\n",
    "        return tfidf_transformer.fit_transform(BOW)\n",
    "    else:\n",
    "        return BOW"
   ]
  },
  {
   "cell_type": "code",
   "execution_count": 139,
   "metadata": {},
   "outputs": [],
   "source": [
    "file = open('Data/line-bot-chrins-export.json', encoding='utf-8')\n",
    "data = json.load(file)\n",
    "del data['bmi']\n",
    "expenses_df = pd.DataFrame.from_dict(data['expenses']).T\n",
    "income_df = pd.DataFrame.from_dict(data['income']).T\n",
    "income_df.drop(\"-LwSJ24Y1cVwv83oCbTJ\", inplace = True)\n",
    "\n",
    "income_df.loc[:, \"Label\"] = 0\n",
    "expenses_df.loc[:, \"Label\"] = 1\n",
    "\n",
    "df = pd.concat([expenses_df, income_df])"
   ]
  },
  {
   "cell_type": "code",
   "execution_count": 140,
   "metadata": {},
   "outputs": [],
   "source": [
    "word_list = ['ราเมง', 'อิเกีย', 'คาปูชิโน่', 'น้ำมัน','หอยลาย', 'ปุ้มปุ้ย']\n",
    "cus_dict = get_dict(word_list)\n",
    "corpus = get_corpus(df.text, cus_dict)\n",
    "X_train_tfidf = get_BOW(df.text, corpus, cus_dict)"
   ]
  },
  {
   "cell_type": "code",
   "execution_count": 141,
   "metadata": {},
   "outputs": [
    {
     "data": {
      "text/plain": [
       "XGBRFClassifier(base_score=0.5, booster=None, colsample_bylevel=1,\n",
       "                colsample_bynode=0.8, colsample_bytree=1, gamma=0, gpu_id=-1,\n",
       "                importance_type='gain', interaction_constraints=None,\n",
       "                learning_rate=1, max_delta_step=0, max_depth=6,\n",
       "                min_child_weight=1, missing=nan, monotone_constraints=None,\n",
       "                n_estimators=100, n_jobs=0, num_parallel_tree=100,\n",
       "                objective='binary:logistic', random_state=0, reg_alpha=0,\n",
       "                reg_lambda=1e-05, scale_pos_weight=1, subsample=0.8,\n",
       "                tree_method=None, validate_parameters=False, verbosity=None)"
      ]
     },
     "execution_count": 141,
     "metadata": {},
     "output_type": "execute_result"
    }
   ],
   "source": [
    "clf_xgb = xgb.XGBRFClassifier()\n",
    "clf_xgb.fit(X_train_tfidf, df.Label)"
   ]
  },
  {
   "cell_type": "code",
   "execution_count": 142,
   "metadata": {},
   "outputs": [],
   "source": [
    "X_test_tfidf = get_BOW(['ได้เงิน'], corpus, cus_dict)"
   ]
  },
  {
   "cell_type": "code",
   "execution_count": 143,
   "metadata": {},
   "outputs": [
    {
     "data": {
      "text/plain": [
       "array([0], dtype=int64)"
      ]
     },
     "execution_count": 143,
     "metadata": {},
     "output_type": "execute_result"
    }
   ],
   "source": [
    "clf_xgb.predict(X_test_tfidf)"
   ]
  },
  {
   "cell_type": "markdown",
   "metadata": {},
   "source": [
    "#### Export finalized model"
   ]
  },
  {
   "cell_type": "code",
   "execution_count": 144,
   "metadata": {},
   "outputs": [
    {
     "data": {
      "text/plain": [
       "['text_clf.sav']"
      ]
     },
     "execution_count": 144,
     "metadata": {},
     "output_type": "execute_result"
    }
   ],
   "source": [
    "joblib.dump(clf_xgb, 'text_clf.sav')"
   ]
  },
  {
   "cell_type": "code",
   "execution_count": 145,
   "metadata": {},
   "outputs": [
    {
     "data": {
      "text/plain": [
       "['corpus.sav']"
      ]
     },
     "execution_count": 145,
     "metadata": {},
     "output_type": "execute_result"
    }
   ],
   "source": [
    "joblib.dump(corpus, 'corpus.sav')"
   ]
  },
  {
   "cell_type": "code",
   "execution_count": 146,
   "metadata": {},
   "outputs": [],
   "source": [
    "loaded_corpus = joblib.load('corpus.sav')"
   ]
  },
  {
   "cell_type": "code",
   "execution_count": null,
   "metadata": {},
   "outputs": [],
   "source": []
  }
 ],
 "metadata": {
  "kernelspec": {
   "display_name": "Python 3",
   "language": "python",
   "name": "python3"
  },
  "language_info": {
   "codemirror_mode": {
    "name": "ipython",
    "version": 3
   },
   "file_extension": ".py",
   "mimetype": "text/x-python",
   "name": "python",
   "nbconvert_exporter": "python",
   "pygments_lexer": "ipython3",
   "version": "3.7.6"
  }
 },
 "nbformat": 4,
 "nbformat_minor": 4
}
